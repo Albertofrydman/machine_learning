{
  "nbformat": 4,
  "nbformat_minor": 0,
  "metadata": {
    "colab": {
      "provenance": []
    },
    "kernelspec": {
      "name": "python3",
      "display_name": "Python 3"
    },
    "language_info": {
      "name": "python"
    }
  },
  "cells": [
    {
      "cell_type": "code",
      "execution_count": null,
      "metadata": {
        "id": "NSD0Cn6Z4UE6"
      },
      "outputs": [],
      "source": [
        "import numpy as np\n",
        "import pandas as pd\n",
        "import seaborn as sns\n",
        "from sklearn.cluster import KMeans, DBSCAN\n",
        "from sklearn.metrics import silhouette_score\n",
        "from sklearn.model_selection import train_test_split\n",
        "import pandas_datareader as pdr"
      ]
    },
    {
      "cell_type": "code",
      "source": [
        "# Descargar el dataset\n",
        "import urllib.request\n",
        "import zipfile\n",
        "url = 'https://archive.ics.uci.edu/ml/machine-learning-databases/00222/bank-additional.zip'\n",
        "urllib.request.urlretrieve(url, 'bank-additional.zip')"
      ],
      "metadata": {
        "id": "Qoe-2UsmN_9c"
      },
      "execution_count": null,
      "outputs": []
    },
    {
      "cell_type": "code",
      "source": [
        "# Leer el archivo zip\n",
        "with zipfile.ZipFile('bank-additional.zip', 'r') as zip_ref:\n",
        "    zip_ref.extractall()\n",
        "\n",
        "# Leer el conjunto de datos\n",
        "data = pd.read_csv('bank-additional/bank-additional-full.csv', sep=';')"
      ],
      "metadata": {
        "id": "mxfM4GnHN3JN"
      },
      "execution_count": null,
      "outputs": []
    },
    {
      "cell_type": "markdown",
      "source": [
        "##Diccionario"
      ],
      "metadata": {
        "id": "AWuAvYPSIYjp"
      }
    },
    {
      "cell_type": "markdown",
      "source": [
        "* age: Edad del cliente (variable numérica).\n",
        "* job: Profesión del cliente (variable categórica), que incluye categorías como \"admin.\", \"blue-collar\" (trabajador manual), \"technician\" (técnico), entre otras.\n",
        "* marital: Estado civil del cliente (variable categórica), que puede ser \"married\" (casado), \"single\" (soltero), \"divorced\" (divorciado) o \"unknown\" (desconocido).\n",
        "* education: Nivel de educación del cliente (variable categórica), como \"basic.4y\" (educación básica de 4 años), \"university.degree\" (licenciatura), \"unknown\" (desconocido), entre otros.\n",
        "* default: Indicador de si el cliente tiene crédito por defecto o no (variable categórica).\n",
        "* housing: Indicador de si el cliente tiene un préstamo de vivienda o no (variable categórica).\n",
        "* loan: Indicador de si el cliente tiene un préstamo personal o no (variable categórica).\n",
        "* contact: Método de contacto del cliente (variable categórica), que puede ser \"cellular\" (teléfono móvil) o \"telephone\" (teléfono fijo).\n",
        "month: Mes del último contacto realizado con el cliente (variable categórica).\n",
        "* day_of_week: Día de la semana del último contacto realizado con el cliente (variable categórica).\n",
        "* duration: Duración en segundos del último contacto realizado con el cliente (variable numérica). Nota: este campo no debe ser considerado para un análisis predictivo, ya que está altamente correlacionado con el resultado (específicamente, la duración de la llamada depende del resultado de la llamada).\n",
        "* campaign: Número de contactos realizados durante esta campaña y para este cliente (variable numérica).\n",
        "* pdays: Número de días que han pasado desde el último contacto realizado con el cliente en una campaña anterior (variable numérica). Se establece a 999 si el cliente no fue contactado previamente.\n",
        "* previous: Número de contactos realizados antes de esta campaña y para este cliente (variable numérica).\n",
        "poutcome: Resultado de la campaña de marketing anterior (variable categórica).\n",
        "* emp.var.rate: Tasa de variación del empleo (variable numérica).\n",
        "* cons.price.idx: Índice de precios al consumidor (variable numérica).\n",
        "* cons.conf.idx: Índice de confianza del consumidor (variable numérica).\n",
        "* euribor3m: Tasa Euribor a 3 meses (variable numérica).\n",
        "* nr.employed: Número de empleados (variable numérica)."
      ],
      "metadata": {
        "id": "jigle9Jqyjry"
      }
    },
    {
      "cell_type": "code",
      "source": [
        "len(data.columns.to_list())"
      ],
      "metadata": {
        "id": "UlVJveBjOzX_"
      },
      "execution_count": null,
      "outputs": []
    },
    {
      "cell_type": "code",
      "source": [
        "# Seleccionar las características para el agrupamiento\n",
        "X = data[['age', 'campaign']]"
      ],
      "metadata": {
        "id": "K95Ne4Ix_AiP"
      },
      "execution_count": null,
      "outputs": []
    },
    {
      "cell_type": "code",
      "source": [
        "X.head()"
      ],
      "metadata": {
        "id": "b8Ie5fBFs_EN"
      },
      "execution_count": null,
      "outputs": []
    },
    {
      "cell_type": "code",
      "source": [
        "train_test_split(X, test_size=0.2, random_state=42)"
      ],
      "metadata": {
        "id": "JkphRB9GtLPQ"
      },
      "execution_count": null,
      "outputs": []
    },
    {
      "cell_type": "code",
      "source": [
        "# Dividir los datos en entrenamiento y prueba\n",
        "from sklearn.model_selection import train_test_split\n",
        "X_train, X_test = train_test_split(X, test_size=0.2, random_state=42)"
      ],
      "metadata": {
        "id": "806HoYdeSFPY"
      },
      "execution_count": null,
      "outputs": []
    },
    {
      "cell_type": "code",
      "source": [
        "print(X.shape , X_train.shape , X_test.shape)"
      ],
      "metadata": {
        "id": "ebR2upqDSJn7"
      },
      "execution_count": null,
      "outputs": []
    },
    {
      "cell_type": "markdown",
      "source": [
        "#K-Means"
      ],
      "metadata": {
        "id": "FKNC8XTuPpsN"
      }
    },
    {
      "cell_type": "markdown",
      "source": [
        "## Definicion de parámetros :\n",
        "\n",
        "El algoritmo K-means es una técnica de agrupamiento (clustering) ampliamente utilizada y está disponible en la biblioteca de aprendizaje automático scikit-learn de Python. A continuación, se describen los parámetros más relevantes del algoritmo KMeans en scikit-learn:\n",
        "\n",
        "1. n_clusters: Especifica el número de grupos (clusters) que se desean crear. Es un parámetro obligatorio y debe ser un valor entero positivo.\n",
        "\n",
        "2. init: Determina el método utilizado para inicializar los centroides de los grupos. Puede tomar uno de los siguientes valores:\n",
        "\n",
        "* \"k-means++\": Inicializa los centroides de manera inteligente para acelerar la convergencia.\n",
        "* \"random\": Inicializa los centroides de forma aleatoria.\n",
        "\n",
        "3. n_init: Especifica el número de veces que se ejecutará el algoritmo con diferentes centroides iniciales. El resultado final será el mejor de todas las ejecuciones en términos de la inercia.\n",
        "\n",
        "4. max_iter: Indica el número máximo de iteraciones que realizará el algoritmo para converger. Si los centroides no convergen antes de alcanzar el número máximo de iteraciones, el algoritmo se detendrá.\n",
        "\n",
        "5. tol: Especifica un valor de tolerancia para la convergencia. Si la diferencia entre las inercias de dos iteraciones consecutivas es menor o igual a esta tolerancia, se considera que el algoritmo ha convergido y se detiene.\n",
        "\n",
        "6. random_state: Es un valor entero que permite controlar la generación de números aleatorios en el algoritmo. Esto garantiza que los resultados sean reproducibles."
      ],
      "metadata": {
        "id": "ZnuTGI8ePtwl"
      }
    },
    {
      "cell_type": "code",
      "source": [
        "kmeans = KMeans(n_clusters=2,init='random', n_init=20)"
      ],
      "metadata": {
        "id": "5Xaja-FNlOl-"
      },
      "execution_count": null,
      "outputs": []
    },
    {
      "cell_type": "code",
      "source": [
        "kmeans.fit(X_train)"
      ],
      "metadata": {
        "id": "byl4ndAglP6F"
      },
      "execution_count": null,
      "outputs": []
    },
    {
      "cell_type": "code",
      "source": [
        "# k-means con 3 clusters\n",
        "kmeans = KMeans(n_clusters=3,init='random', n_init=20)\n",
        "kmeans.fit(X_train)"
      ],
      "metadata": {
        "id": "eWdhQpQ---5A"
      },
      "execution_count": null,
      "outputs": []
    },
    {
      "cell_type": "code",
      "source": [
        "kmeans.predict(X_train)"
      ],
      "metadata": {
        "id": "v9tpc1ebyjCb"
      },
      "execution_count": null,
      "outputs": []
    },
    {
      "cell_type": "markdown",
      "source": [
        "##Visualizar Los Clusters"
      ],
      "metadata": {
        "id": "jkd0J4_Ictng"
      }
    },
    {
      "cell_type": "code",
      "source": [
        "import matplotlib.pyplot as plt\n",
        "# Crear el gráfico de dispersión utilizando Seaborn\n",
        "sns.scatterplot(x=X_train['age'], y=X_train['campaign'], hue=kmeans.predict(X_train))\n",
        "\n",
        "# Personalizar los ejes y el título\n",
        "plt.xlabel('Age')\n",
        "plt.ylabel('Campaign')\n",
        "plt.title('Gráfico de dispersión en muestra de Train')\n",
        "\n",
        "# Mostrar el gráfico\n",
        "plt.show()"
      ],
      "metadata": {
        "id": "5Rhw6lrLcs3W"
      },
      "execution_count": null,
      "outputs": []
    },
    {
      "cell_type": "code",
      "source": [
        "kmeans.predict(X_test)"
      ],
      "metadata": {
        "id": "amHAhjNzk74q"
      },
      "execution_count": null,
      "outputs": []
    },
    {
      "cell_type": "code",
      "source": [
        "sns.scatterplot(x=X_test['age'], y=X_test['campaign'], hue=kmeans.predict(X_test))\n",
        "# Personalizar los ejes y el título\n",
        "plt.xlabel('Age')\n",
        "plt.ylabel('Campaign')\n",
        "plt.title('Gráfico de dispersión en muestra de Train')\n",
        "\n",
        "# Mostrar el gráfico\n",
        "plt.show()"
      ],
      "metadata": {
        "id": "TheIKefMd7W2"
      },
      "execution_count": null,
      "outputs": []
    },
    {
      "cell_type": "markdown",
      "source": [
        "#Dbscan"
      ],
      "metadata": {
        "id": "BkcvTjC_l9c6"
      }
    },
    {
      "cell_type": "markdown",
      "source": [
        "El algoritmo DBSCAN (Density-Based Spatial Clustering of Applications with Noise) es una técnica de agrupamiento que se basa en la densidad de los puntos en el espacio de características. La implementación de DBSCAN en scikit-learn proporciona varios parámetros que se pueden ajustar para controlar el comportamiento del algoritmo. A continuación, te proporcionaré una descripción de los parámetros más importantes del DBSCAN en scikit-learn:\n",
        "\n",
        "1. eps: Especifica la distancia máxima entre dos puntos para que se consideren vecinos. Es un parámetro crítico que determina la densidad requerida para formar un grupo. Un valor de eps más pequeño resultará en grupos más densos.\n",
        "\n",
        "2. min_samples: Especifica el número mínimo de puntos dentro de un radio eps para que un punto se considere un núcleo. Los puntos núcleo son aquellos que tienen suficientes vecinos dentro de su vecindario eps para formar un grupo. Un valor mayor de min_samples requerirá una mayor densidad para formar grupos.\n",
        "\n",
        "3. metric: Especifica la métrica de distancia utilizada para medir la distancia entre los puntos. Puede ser una cadena de texto que representa una de las métricas de distancia disponibles en scikit-learn, como \"euclidean\", \"manhattan\", \"cosine\", entre otras.\n",
        "\n",
        "4. n_jobs: Especifica el número de trabajos en paralelo para ejecutar el algoritmo. Puede acelerar el proceso en sistemas con múltiples núcleos de CPU. Un valor de -1 utilizará todos los núcleos disponibles."
      ],
      "metadata": {
        "id": "vSR6VVeLmBCP"
      }
    },
    {
      "cell_type": "code",
      "source": [
        "# DBSCAN con eps = 1 y min_samples = 5\n",
        "dbscan = DBSCAN(eps=1, min_samples=10 , metric ='manhattan')\n",
        "dbscan.fit(X_train)"
      ],
      "metadata": {
        "id": "1goc6vmx-9YF"
      },
      "execution_count": null,
      "outputs": []
    },
    {
      "cell_type": "code",
      "source": [
        "X_train['age_std'] = (X_train['age'] - X_train['age'].mean()) / X_train['age'].std()"
      ],
      "metadata": {
        "id": "OtbprfEemr8C"
      },
      "execution_count": null,
      "outputs": []
    },
    {
      "cell_type": "code",
      "source": [
        "import matplotlib.pyplot as plt\n",
        "# Crear el gráfico de dispersión utilizando Seaborn\n",
        "sns.scatterplot(x=X_train['age'], y=X_train['campaign'], hue=dbscan.fit_predict(X_train))\n",
        "\n",
        "# Personalizar los ejes y el título\n",
        "plt.xlabel('Age')\n",
        "plt.ylabel('Campaign')\n",
        "plt.title('Gráfico de dispersión en muestra de Train')\n",
        "\n",
        "# Mostrar el gráfico\n",
        "plt.show()"
      ],
      "metadata": {
        "id": "5Ot7dlZP5s6G"
      },
      "execution_count": null,
      "outputs": []
    },
    {
      "cell_type": "code",
      "source": [
        "# Calcular el puntaje de silueta para k-means\n",
        "kmeans_silhouette = silhouette_score(X_test, kmeans.predict(X_test))\n",
        "\n",
        "# Calcular el puntaje de silueta para DBSCAN\n",
        "dbscan_silhouette = silhouette_score(X_test, dbscan.fit_predict(X_test))"
      ],
      "metadata": {
        "id": "kEXy5mPc-7Lt"
      },
      "execution_count": null,
      "outputs": []
    },
    {
      "cell_type": "code",
      "source": [
        "# Imprimir los puntajes de silueta\n",
        "print(\"Puntaje de silueta para k-means: \", kmeans_silhouette)\n",
        "print(\"Puntaje de silueta para DBSCAN: \", dbscan_silhouette)"
      ],
      "metadata": {
        "id": "Ffb_Ou_C-5_i"
      },
      "execution_count": null,
      "outputs": []
    },
    {
      "cell_type": "code",
      "source": [
        "predict = pd.DataFrame(kmeans.predict(X_test) , columns=['predict'])"
      ],
      "metadata": {
        "id": "CvVItHAdY31k"
      },
      "execution_count": null,
      "outputs": []
    },
    {
      "cell_type": "code",
      "source": [
        "predict = pd.DataFrame(kmeans.predict(X_test) , columns=['predict'])\n",
        "pd.concat([X_test, predict] ).to_csv('k-means')"
      ],
      "metadata": {
        "id": "EiuryrL7fYN8"
      },
      "execution_count": null,
      "outputs": []
    },
    {
      "cell_type": "code",
      "source": [
        "from itertools import product\n",
        "from sklearn.metrics import silhouette_score\n",
        "from sklearn.cluster import KMeans\n",
        "\n",
        "param_grid = {'n_clusters': [2, 3, 4, 5],\n",
        "              'init': ['k-means++', 'random'],\n",
        "              'n_init': [10, 20, 30]}\n",
        "\n",
        "# Generar todas las combinaciones de parámetros\n",
        "combinations = list(product(*param_grid.values()))\n",
        "print(combinations)"
      ],
      "metadata": {
        "id": "J_OM4P-EbbCo"
      },
      "execution_count": null,
      "outputs": []
    },
    {
      "cell_type": "code",
      "source": [
        "list(combinations[1])"
      ],
      "metadata": {
        "id": "l8EfzOILcQyc"
      },
      "execution_count": null,
      "outputs": []
    },
    {
      "cell_type": "code",
      "source": [
        "#X_test"
      ],
      "metadata": {
        "id": "pcs1jS23-LO8"
      },
      "execution_count": null,
      "outputs": []
    },
    {
      "cell_type": "code",
      "source": [
        "X_train.head()"
      ],
      "metadata": {
        "id": "Wp6QeREu-YBr"
      },
      "execution_count": null,
      "outputs": []
    },
    {
      "cell_type": "code",
      "source": [
        "X_test.head()"
      ],
      "metadata": {
        "id": "CW21nKWQ-aMr"
      },
      "execution_count": null,
      "outputs": []
    },
    {
      "cell_type": "code",
      "source": [
        "X_test['age_std'] = (X_test['age'] - X_test['age'].mean()) / X_test['age'].std()"
      ],
      "metadata": {
        "id": "twnNf9vX-fBc"
      },
      "execution_count": null,
      "outputs": []
    },
    {
      "cell_type": "code",
      "source": [
        "# Inicializar variable para guardar el mejor score y los mejores parámetros\n",
        "best_score = -1\n",
        "best_params = None\n",
        "\n",
        "for params in combinations:\n",
        "    kmeans = KMeans(n_clusters=params[0], init=params[1], n_init=params[2])\n",
        "    kmeans.fit(X_train)\n",
        "    score = silhouette_score(X_test, kmeans.predict(X_test))\n",
        "    if score > best_score:\n",
        "        best_score = score\n",
        "        best_params = params\n",
        "\n",
        "print(\"Los mejores parámetros son: \", best_params)\n",
        "print(\"Con un silhouette score de: \", best_score)"
      ],
      "metadata": {
        "id": "JplN5R0CVoK7"
      },
      "execution_count": null,
      "outputs": []
    },
    {
      "cell_type": "code",
      "source": [
        "best_params"
      ],
      "metadata": {
        "id": "-ccjEc3orJsU"
      },
      "execution_count": null,
      "outputs": []
    },
    {
      "cell_type": "code",
      "source": [
        "kmeans = KMeans(n_clusters=best_params[0], init=best_params[1], n_init=best_params[2])\n",
        "kmeans.fit(X_train)"
      ],
      "metadata": {
        "id": "IZQ3fN7_rE9s"
      },
      "execution_count": null,
      "outputs": []
    },
    {
      "cell_type": "markdown",
      "source": [
        "# Inercia"
      ],
      "metadata": {
        "id": "U3Wys8r2jKJe"
      }
    },
    {
      "cell_type": "markdown",
      "source": [
        "La inercia es una métrica utilizada en algoritmos de agrupamiento, como K-means, para evaluar la calidad del agrupamiento. Representa la suma de las distancias al cuadrado de cada punto al centroide de su grupo correspondiente. Cuanto menor sea la inercia, mejor será la calidad del agrupamiento.\n",
        "\n",
        "La fórmula matemática para calcular la inercia es la siguiente:\n",
        "\n",
        "Inercia = Σ(distancia(punto, centroide)²)\n",
        "\n",
        "Donde:\n",
        "\n",
        "* Σ representa la suma de todas las distancias al cuadrado de los puntos.\n",
        "* distancia(punto, centroide) es la distancia euclidiana entre un punto y su centroide correspondiente.\n",
        "\n",
        "El algoritmo de K-means busca minimizar la inercia al iterar y ajustar los centroides de los grupos para que estén lo más cerca posible de sus respectivos puntos. Una menor inercia indica que los puntos dentro de cada grupo están más cerca de su centroide, lo que sugiere una mejor separación y compacidad de los grupos.\n",
        "\n",
        "Es importante destacar que la inercia es sensible al número de grupos y tiende a disminuir a medida que se incrementa el número de grupos. Por lo tanto, es útil combinar la inercia con otras métricas y técnicas, como la curva elbow o la silueta, para determinar el número óptimo de grupos en un problema de agrupamiento."
      ],
      "metadata": {
        "id": "EHVyfmydopyO"
      }
    },
    {
      "cell_type": "code",
      "source": [
        "# Calcular la suma de las distancias al cuadrado para diferentes valores de k\n",
        "distortions = []\n",
        "K = range(1, 11)\n",
        "for k in K:\n",
        "    kmeans = KMeans(n_clusters=k)\n",
        "    kmeans.fit(X)\n",
        "    distortions.append(kmeans.inertia_)\n",
        "\n",
        "# Graficar la curva elbow\n",
        "plt.plot(K, distortions, 'bx-')\n",
        "plt.xlabel('Número de grupos (k)')\n",
        "plt.ylabel('Suma de las distancias al cuadrado')\n",
        "plt.title('Curva elbow')\n",
        "plt.show()"
      ],
      "metadata": {
        "id": "EJbLc-Psamdp"
      },
      "execution_count": null,
      "outputs": []
    },
    {
      "cell_type": "code",
      "source": [
        "# especificar los posibles valores para los parámetros\n",
        "param_grid = {'eps': [0.1, 0.5, 1, 2],\n",
        "              'min_samples': [3, 5, 10]}\n"
      ],
      "metadata": {
        "id": "wtv3ZsyZXCje"
      },
      "execution_count": null,
      "outputs": []
    }
  ]
}